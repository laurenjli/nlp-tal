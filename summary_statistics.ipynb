{
 "cells": [
  {
   "cell_type": "code",
   "execution_count": 94,
   "metadata": {},
   "outputs": [
    {
     "name": "stdout",
     "output_type": "stream",
     "text": [
      "The autoreload extension is already loaded. To reload it, use:\n",
      "  %reload_ext autoreload\n"
     ]
    }
   ],
   "source": [
    "import pandas as pd\n",
    "import numpy as np\n",
    "import matplotlib.pyplot as plt\n",
    "import matplotlib.cm\n",
    "import seaborn as sns\n",
    "import spacy\n",
    "import nltk\n",
    "import scipy\n",
    "\n",
    "from source import helper_functions as hf, cluster_fns\n",
    "%load_ext autoreload\n",
    "%autoreload 2\n",
    "%matplotlib inline\n",
    "\n",
    "nlp = spacy.load(\"en\")"
   ]
  },
  {
   "cell_type": "code",
   "execution_count": 55,
   "metadata": {},
   "outputs": [],
   "source": [
    "tal_df = hf.load_df('total_trans_normalized.csv')"
   ]
  },
  {
   "cell_type": "code",
   "execution_count": 56,
   "metadata": {},
   "outputs": [
    {
     "data": {
      "text/html": [
       "<div>\n",
       "<style scoped>\n",
       "    .dataframe tbody tr th:only-of-type {\n",
       "        vertical-align: middle;\n",
       "    }\n",
       "\n",
       "    .dataframe tbody tr th {\n",
       "        vertical-align: top;\n",
       "    }\n",
       "\n",
       "    .dataframe thead th {\n",
       "        text-align: right;\n",
       "    }\n",
       "</style>\n",
       "<table border=\"1\" class=\"dataframe\">\n",
       "  <thead>\n",
       "    <tr style=\"text-align: right;\">\n",
       "      <th></th>\n",
       "      <th>ep_num</th>\n",
       "      <th>ep_title</th>\n",
       "      <th>year</th>\n",
       "      <th>url</th>\n",
       "      <th>act_name</th>\n",
       "      <th>text</th>\n",
       "      <th>tokenized_sents</th>\n",
       "      <th>no_lemma_normalized_sents</th>\n",
       "      <th>normalized_sents</th>\n",
       "      <th>tokenized_text</th>\n",
       "      <th>normalized_tokens</th>\n",
       "      <th>no_lemma_normalized_tokens</th>\n",
       "    </tr>\n",
       "  </thead>\n",
       "  <tbody>\n",
       "    <tr>\n",
       "      <th>0</th>\n",
       "      <td>1</td>\n",
       "      <td>New Beginnings</td>\n",
       "      <td>1995</td>\n",
       "      <td>https://www.thisamericanlife.org/1/transcript</td>\n",
       "      <td>Act Four: Act Four</td>\n",
       "      <td>This is Your Radio Playhouse. I'm Ira Glass. O...</td>\n",
       "      <td>[[This, is, Your, Radio, Playhouse], [I, 'm, I...</td>\n",
       "      <td>[[radio, playhouse], [m, ira, glass], [ok, rig...</td>\n",
       "      <td>[[radio, playhouse], [be, ira, glass], [okay, ...</td>\n",
       "      <td>[This, is, Your, Radio, Playhouse, I, 'm, Ira,...</td>\n",
       "      <td>[radio, playhouse, be, ira, glass, okay, right...</td>\n",
       "      <td>[radio, playhouse, m, ira, glass, ok, right, r...</td>\n",
       "    </tr>\n",
       "    <tr>\n",
       "      <th>1</th>\n",
       "      <td>1</td>\n",
       "      <td>New Beginnings</td>\n",
       "      <td>1995</td>\n",
       "      <td>https://www.thisamericanlife.org/1/transcript</td>\n",
       "      <td>Act Three: Act Three</td>\n",
       "      <td>Well, next on our little playhouse stage, we h...</td>\n",
       "      <td>[[Well, next, on, our, little, playhouse, stag...</td>\n",
       "      <td>[[little, playhouse, stage, mr, lawrence, steg...</td>\n",
       "      <td>[[little, playhouse, stage, mr, lawrence, steg...</td>\n",
       "      <td>[Well, next, on, our, little, playhouse, stage...</td>\n",
       "      <td>[little, playhouse, stage, mr, lawrence, stege...</td>\n",
       "      <td>[little, playhouse, stage, mr, lawrence, stege...</td>\n",
       "    </tr>\n",
       "    <tr>\n",
       "      <th>2</th>\n",
       "      <td>1</td>\n",
       "      <td>New Beginnings</td>\n",
       "      <td>1995</td>\n",
       "      <td>https://www.thisamericanlife.org/1/transcript</td>\n",
       "      <td>Act Two: Act Two</td>\n",
       "      <td>Good morning. Glass, Jacobson &amp; Associates.Hey...</td>\n",
       "      <td>[[Good, morning], [Glass, Jacobson, Associates...</td>\n",
       "      <td>[[good, morning], [glass, jacobson, associates...</td>\n",
       "      <td>[[good, morning], [glass, jacobson, associate]...</td>\n",
       "      <td>[Good, morning, Glass, Jacobson, Associates, H...</td>\n",
       "      <td>[good, morning, glass, jacobson, associate, he...</td>\n",
       "      <td>[good, morning, glass, jacobson, associates, h...</td>\n",
       "    </tr>\n",
       "    <tr>\n",
       "      <th>3</th>\n",
       "      <td>1</td>\n",
       "      <td>New Beginnings</td>\n",
       "      <td>1995</td>\n",
       "      <td>https://www.thisamericanlife.org/1/transcript</td>\n",
       "      <td>Act One: Act One</td>\n",
       "      <td>All right, Your Radio Playhouse. All right. I'...</td>\n",
       "      <td>[[All, right, Your, Radio, Playhouse], [All, r...</td>\n",
       "      <td>[[right, radio, playhouse], [right], [m, makin...</td>\n",
       "      <td>[[right, radio, playhouse], [right], [be, make...</td>\n",
       "      <td>[All, right, Your, Radio, Playhouse, All, righ...</td>\n",
       "      <td>[right, radio, playhouse, right, be, make, eye...</td>\n",
       "      <td>[right, radio, playhouse, right, m, making, ey...</td>\n",
       "    </tr>\n",
       "    <tr>\n",
       "      <th>4</th>\n",
       "      <td>1</td>\n",
       "      <td>New Beginnings</td>\n",
       "      <td>1995</td>\n",
       "      <td>https://www.thisamericanlife.org/1/transcript</td>\n",
       "      <td>Prologue</td>\n",
       "      <td>Joe Franklin?I'm ready.It's Ira Glass here.Oh,...</td>\n",
       "      <td>[[Joe, Franklin?I'm, ready], [It, 's, Ira, Gla...</td>\n",
       "      <td>[[joe, franklin?i'm, ready], [ira, glass], [oh...</td>\n",
       "      <td>[[joe, franklin?i'm, ready], [ira, glass], [oh...</td>\n",
       "      <td>[Joe, Franklin?I'm, ready, It, 's, Ira, Glass,...</td>\n",
       "      <td>[joe, franklin?i'm, ready, ira, glass, oh, emc...</td>\n",
       "      <td>[joe, franklin?i'm, ready, ira, glass, oh, emc...</td>\n",
       "    </tr>\n",
       "  </tbody>\n",
       "</table>\n",
       "</div>"
      ],
      "text/plain": [
       "   ep_num        ep_title  year  \\\n",
       "0       1  New Beginnings  1995   \n",
       "1       1  New Beginnings  1995   \n",
       "2       1  New Beginnings  1995   \n",
       "3       1  New Beginnings  1995   \n",
       "4       1  New Beginnings  1995   \n",
       "\n",
       "                                             url              act_name  \\\n",
       "0  https://www.thisamericanlife.org/1/transcript    Act Four: Act Four   \n",
       "1  https://www.thisamericanlife.org/1/transcript  Act Three: Act Three   \n",
       "2  https://www.thisamericanlife.org/1/transcript      Act Two: Act Two   \n",
       "3  https://www.thisamericanlife.org/1/transcript      Act One: Act One   \n",
       "4  https://www.thisamericanlife.org/1/transcript              Prologue   \n",
       "\n",
       "                                                text  \\\n",
       "0  This is Your Radio Playhouse. I'm Ira Glass. O...   \n",
       "1  Well, next on our little playhouse stage, we h...   \n",
       "2  Good morning. Glass, Jacobson & Associates.Hey...   \n",
       "3  All right, Your Radio Playhouse. All right. I'...   \n",
       "4  Joe Franklin?I'm ready.It's Ira Glass here.Oh,...   \n",
       "\n",
       "                                     tokenized_sents  \\\n",
       "0  [[This, is, Your, Radio, Playhouse], [I, 'm, I...   \n",
       "1  [[Well, next, on, our, little, playhouse, stag...   \n",
       "2  [[Good, morning], [Glass, Jacobson, Associates...   \n",
       "3  [[All, right, Your, Radio, Playhouse], [All, r...   \n",
       "4  [[Joe, Franklin?I'm, ready], [It, 's, Ira, Gla...   \n",
       "\n",
       "                           no_lemma_normalized_sents  \\\n",
       "0  [[radio, playhouse], [m, ira, glass], [ok, rig...   \n",
       "1  [[little, playhouse, stage, mr, lawrence, steg...   \n",
       "2  [[good, morning], [glass, jacobson, associates...   \n",
       "3  [[right, radio, playhouse], [right], [m, makin...   \n",
       "4  [[joe, franklin?i'm, ready], [ira, glass], [oh...   \n",
       "\n",
       "                                    normalized_sents  \\\n",
       "0  [[radio, playhouse], [be, ira, glass], [okay, ...   \n",
       "1  [[little, playhouse, stage, mr, lawrence, steg...   \n",
       "2  [[good, morning], [glass, jacobson, associate]...   \n",
       "3  [[right, radio, playhouse], [right], [be, make...   \n",
       "4  [[joe, franklin?i'm, ready], [ira, glass], [oh...   \n",
       "\n",
       "                                      tokenized_text  \\\n",
       "0  [This, is, Your, Radio, Playhouse, I, 'm, Ira,...   \n",
       "1  [Well, next, on, our, little, playhouse, stage...   \n",
       "2  [Good, morning, Glass, Jacobson, Associates, H...   \n",
       "3  [All, right, Your, Radio, Playhouse, All, righ...   \n",
       "4  [Joe, Franklin?I'm, ready, It, 's, Ira, Glass,...   \n",
       "\n",
       "                                   normalized_tokens  \\\n",
       "0  [radio, playhouse, be, ira, glass, okay, right...   \n",
       "1  [little, playhouse, stage, mr, lawrence, stege...   \n",
       "2  [good, morning, glass, jacobson, associate, he...   \n",
       "3  [right, radio, playhouse, right, be, make, eye...   \n",
       "4  [joe, franklin?i'm, ready, ira, glass, oh, emc...   \n",
       "\n",
       "                          no_lemma_normalized_tokens  \n",
       "0  [radio, playhouse, m, ira, glass, ok, right, r...  \n",
       "1  [little, playhouse, stage, mr, lawrence, stege...  \n",
       "2  [good, morning, glass, jacobson, associates, h...  \n",
       "3  [right, radio, playhouse, right, m, making, ey...  \n",
       "4  [joe, franklin?i'm, ready, ira, glass, oh, emc...  "
      ]
     },
     "execution_count": 56,
     "metadata": {},
     "output_type": "execute_result"
    }
   ],
   "source": [
    "tal_df.head()"
   ]
  },
  {
   "cell_type": "markdown",
   "metadata": {},
   "source": [
    "## Stats by Episode"
   ]
  },
  {
   "cell_type": "code",
   "execution_count": 57,
   "metadata": {},
   "outputs": [
    {
     "data": {
      "text/plain": [
       "(3055, 12)"
      ]
     },
     "execution_count": 57,
     "metadata": {},
     "output_type": "execute_result"
    }
   ],
   "source": [
    "# num. of acts\n",
    "tal_df.shape"
   ]
  },
  {
   "cell_type": "code",
   "execution_count": 58,
   "metadata": {},
   "outputs": [
    {
     "data": {
      "text/plain": [
       "(627, 12)"
      ]
     },
     "execution_count": 58,
     "metadata": {},
     "output_type": "execute_result"
    }
   ],
   "source": [
    "# num. of prologues\n",
    "tal_df[tal_df['act_name'] == 'Prologue'].shape"
   ]
  },
  {
   "cell_type": "code",
   "execution_count": 59,
   "metadata": {},
   "outputs": [
    {
     "data": {
      "text/plain": [
       "(677, 11)"
      ]
     },
     "execution_count": 59,
     "metadata": {},
     "output_type": "execute_result"
    }
   ],
   "source": [
    "# num. of episodes\n",
    "by_ep = hf.agg_text(tal_df, 'ep_title', True)\n",
    "by_ep.shape"
   ]
  },
  {
   "cell_type": "markdown",
   "metadata": {},
   "source": [
    "## Stats by Year"
   ]
  },
  {
   "cell_type": "code",
   "execution_count": 60,
   "metadata": {},
   "outputs": [
    {
     "data": {
      "text/plain": [
       "year\n",
       "1995     7\n",
       "1996    39\n",
       "1997    39\n",
       "1998    31\n",
       "1999    30\n",
       "2000    23\n",
       "2001    26\n",
       "2002    25\n",
       "2003    28\n",
       "2004    24\n",
       "2005    25\n",
       "2006    17\n",
       "2007    24\n",
       "2008    25\n",
       "2009    25\n",
       "2010    25\n",
       "2011    30\n",
       "2012    28\n",
       "2013    30\n",
       "2014    29\n",
       "2015    33\n",
       "2016    30\n",
       "2017    28\n",
       "2018    31\n",
       "2019    25\n",
       "Name: ep_title, dtype: int64"
      ]
     },
     "execution_count": 60,
     "metadata": {},
     "output_type": "execute_result"
    }
   ],
   "source": [
    "# num. of episodes in each year\n",
    "by_ep.groupby('year')['ep_title'].count()"
   ]
  },
  {
   "cell_type": "code",
   "execution_count": 75,
   "metadata": {},
   "outputs": [],
   "source": [
    "by_year = hf.agg_text(tal_df, 'year', False)"
   ]
  },
  {
   "cell_type": "code",
   "execution_count": 85,
   "metadata": {},
   "outputs": [],
   "source": [
    "nlp.max_length = 2000000"
   ]
  },
  {
   "cell_type": "code",
   "execution_count": 88,
   "metadata": {},
   "outputs": [],
   "source": [
    "ids_list, corpora_stop, corpora_notstop = make_corpora(by_year)"
   ]
  },
  {
   "cell_type": "code",
   "execution_count": 97,
   "metadata": {},
   "outputs": [
    {
     "data": {
      "image/png": "[encoded data removed]",
      "text/plain": [
       "<Figure size 1800x1296 with 8 Axes>"
      ]
     },
     "metadata": {
      "needs_background": "light"
     },
     "output_type": "display_data"
    },
    {
     "data": {
      "text/plain": [
       "<Figure size 432x288 with 0 Axes>"
      ]
     },
     "metadata": {},
     "output_type": "display_data"
    },
    {
     "data": {
      "text/plain": [
       "<Figure size 432x288 with 0 Axes>"
      ]
     },
     "metadata": {},
     "output_type": "display_data"
    },
    {
     "data": {
      "text/plain": [
       "<Figure size 432x288 with 0 Axes>"
      ]
     },
     "metadata": {},
     "output_type": "display_data"
    },
    {
     "data": {
      "text/plain": [
       "<Figure size 432x288 with 0 Axes>"
      ]
     },
     "metadata": {},
     "output_type": "display_data"
    }
   ],
   "source": [
    "make_div_heatmap(corpora_notstop, ids_list)"
   ]
  },
  {
   "cell_type": "markdown",
   "metadata": {},
   "source": [
    "Okay, so I am inclined to use Wasserstein/Earth Mover's Distance but I am also going to merge 1995 w/ 1996 b/c it is drowning out the others"
   ]
  },
  {
   "cell_type": "code",
   "execution_count": 124,
   "metadata": {},
   "outputs": [],
   "source": [
    "nonstop_yrs = []\n",
    "early_yrs = corpora_notstop[0] + corpora_notstop[1]\n",
    "nonstop_yrs.append(early_yrs)\n",
    "nonstop_yrs.extend(corpora_notstop[2:])"
   ]
  },
  {
   "cell_type": "code",
   "execution_count": 137,
   "metadata": {},
   "outputs": [],
   "source": [
    "ids_list.remove(1995)\n",
    "ids_list.remove(1996)\n",
    "ids_list.insert(0, '1995-1996')"
   ]
  },
  {
   "cell_type": "code",
   "execution_count": 143,
   "metadata": {},
   "outputs": [
    {
     "data": {
      "image/png": "[encoded data removed]",
      "text/plain": [
       "<Figure size 432x288 with 2 Axes>"
      ]
     },
     "metadata": {
      "needs_background": "light"
     },
     "output_type": "display_data"
    }
   ],
   "source": [
    "make_one_heatmap(ids_list, nonstop_yrs, 'Wasserstein')"
   ]
  },
  {
   "cell_type": "markdown",
   "metadata": {},
   "source": [
    "So what stands out to me here: 2006 & 2018 are really NOT similar. Both years are generally more divergent than other years, but are especially different when we compare them together.\n",
    "\n",
    "Most importantly, this serves as justification from grouping 1995 with 1996 I think: 1995 is not sticking only because it couldn't be close to anything b/c so few eps/words."
   ]
  },
  {
   "cell_type": "markdown",
   "metadata": {},
   "source": [
    "## Stats by 5-Year Period"
   ]
  },
  {
   "cell_type": "markdown",
   "metadata": {},
   "source": [
    "1995-2001 (this one is technically 6 years but so few eps in 1995)\n",
    "2002-2007\n",
    "2008-2013\n",
    "2014-2019"
   ]
  },
  {
   "cell_type": "code",
   "execution_count": 152,
   "metadata": {},
   "outputs": [],
   "source": [
    "group_1 = list(range(1995, 2002))\n",
    "group_2 = list(range(2002, 2008))\n",
    "group_3 = list(range(2008, 2014))\n",
    "group_4 = list(range(2014, 2020))\n",
    "yr_groups = [group_1, group_2, group_3, group_4]"
   ]
  },
  {
   "cell_type": "code",
   "execution_count": 163,
   "metadata": {},
   "outputs": [],
   "source": [
    "tal_df['five_yr_group'] = np.nan\n",
    "for idx, group in enumerate(yr_groups):\n",
    "    tal_df.loc[tal_df['year'].isin(group), 'five_yr_group'] = int(idx)"
   ]
  },
  {
   "cell_type": "code",
   "execution_count": 178,
   "metadata": {},
   "outputs": [],
   "source": [
    "by_ep = hf.split_five_years(by_ep)"
   ]
  },
  {
   "cell_type": "code",
   "execution_count": 179,
   "metadata": {},
   "outputs": [
    {
     "data": {
      "text/plain": [
       "five_yr_group\n",
       "0.0    195\n",
       "1.0    143\n",
       "2.0    163\n",
       "3.0    176\n",
       "Name: ep_title, dtype: int64"
      ]
     },
     "execution_count": 179,
     "metadata": {},
     "output_type": "execute_result"
    }
   ],
   "source": [
    "# get number of eps per period\n",
    "by_ep.groupby('five_yr_group')['ep_title'].count()"
   ]
  },
  {
   "cell_type": "code",
   "execution_count": 165,
   "metadata": {},
   "outputs": [],
   "source": [
    "by_period = hf.agg_text(tal_df, 'five_yr_group', False)"
   ]
  },
  {
   "cell_type": "code",
   "execution_count": 171,
   "metadata": {},
   "outputs": [],
   "source": [
    "nlp.max_length = 9500000\n",
    "ids_list2, corpora_stop2, corpora_notstop2 = make_corpora(by_period, 'tokenized_text', 'five_yr_group')"
   ]
  },
  {
   "cell_type": "code",
   "execution_count": 172,
   "metadata": {},
   "outputs": [
    {
     "data": {
      "image/png": "[encoded data removed]",
      "text/plain": [
       "<Figure size 432x288 with 2 Axes>"
      ]
     },
     "metadata": {
      "needs_background": "light"
     },
     "output_type": "display_data"
    }
   ],
   "source": [
    "make_one_heatmap(ids_list2, corpora_notstop2, 'Wasserstein')"
   ]
  },
  {
   "cell_type": "markdown",
   "metadata": {},
   "source": [
    "## Other Stats"
   ]
  },
  {
   "cell_type": "code",
   "execution_count": 68,
   "metadata": {},
   "outputs": [
    {
     "data": {
      "text/plain": [
       "141"
      ]
     },
     "execution_count": 68,
     "metadata": {},
     "output_type": "execute_result"
    }
   ],
   "source": [
    "# min words per act\n",
    "min(tal_df['text'].apply(lambda x: len(x)))"
   ]
  },
  {
   "cell_type": "code",
   "execution_count": 69,
   "metadata": {},
   "outputs": [
    {
     "data": {
      "text/plain": [
       "58270"
      ]
     },
     "execution_count": 69,
     "metadata": {},
     "output_type": "execute_result"
    }
   ],
   "source": [
    "# max words per act\n",
    "max(tal_df['text'].apply(lambda x: len(x)))"
   ]
  },
  {
   "cell_type": "markdown",
   "metadata": {},
   "source": [
    "## Mini-summary\n",
    "Stats Found:\n",
    "* Total number of \"acts\" in dataset (including prologue): 3055\n",
    "* Total number of prologues (b/c we look at these specificially later): 627\n",
    "* Total number of eps: 677"
   ]
  },
  {
   "cell_type": "code",
   "execution_count": 72,
   "metadata": {},
   "outputs": [],
   "source": [
    "# The helper fns from hw4 to get divergences for heatmaps\n",
    "def kl_divergence(X, Y):\n",
    "    P = X.copy()\n",
    "    Q = Y.copy()\n",
    "    P.columns = ['P']\n",
    "    Q.columns = ['Q']\n",
    "    df = Q.join(P).fillna(0)\n",
    "    p = df.iloc[:,1]\n",
    "    q = df.iloc[:,0]\n",
    "    D_kl = scipy.stats.entropy(p, q)\n",
    "    return D_kl\n",
    "\n",
    "def chi2_divergence(X,Y):\n",
    "    P = X.copy()\n",
    "    Q = Y.copy()\n",
    "    P.columns = ['P']\n",
    "    Q.columns = ['Q']\n",
    "    df = Q.join(P).fillna(0)\n",
    "    p = df.iloc[:,1]\n",
    "    q = df.iloc[:,0]\n",
    "    return scipy.stats.chisquare(p, q).statistic\n",
    "\n",
    "def jensen_shannon(X, Y):\n",
    "    P = X.copy()\n",
    "    Q = Y.copy()\n",
    "    P.columns = ['P']\n",
    "    Q.columns = ['Q']\n",
    "    df = Q.join(P).fillna(0)\n",
    "    p = df.iloc[:,1]\n",
    "    q = df.iloc[:,0]\n",
    "    return scipy.spatial.distance.jensenshannon(p, q)\n",
    "\n",
    "def Divergence(corpus1, corpus2, difference=\"KL\"):\n",
    "    \"\"\"Difference parameter can equal KL, Chi2, or Wass\"\"\"\n",
    "    freqP = nltk.FreqDist(corpus1)\n",
    "    P = pd.DataFrame(list(freqP.values()), columns = ['frequency'], index = list(freqP.keys()))\n",
    "    freqQ = nltk.FreqDist(corpus2)\n",
    "    Q = pd.DataFrame(list(freqQ.values()), columns = ['frequency'], index = list(freqQ.keys()))\n",
    "    if difference == \"KL\":\n",
    "        return kl_divergence(P, Q)\n",
    "    elif difference == \"Chi2\":\n",
    "        return chi2_divergence(P, Q)\n",
    "    elif difference == \"KS\":\n",
    "        try:\n",
    "            return scipy.stats.ks_2samp(P['frequency'], Q['frequency']).statistic\n",
    "        except:\n",
    "            return scipy.stats.ks_2samp(P['frequency'], Q['frequency'])\n",
    "    elif difference == \"Wasserstein\":\n",
    "        try:\n",
    "            return scipy.stats.wasserstein_distance(P['frequency'], Q['frequency'], u_weights=None, v_weights=None).statistic\n",
    "        except:\n",
    "            return scipy.stats.wasserstein_distance(P['frequency'], Q['frequency'], u_weights=None, v_weights=None)\n",
    "    elif difference == 'JS':\n",
    "        return jensen_shannon(P, Q)"
   ]
  },
  {
   "cell_type": "code",
   "execution_count": 87,
   "metadata": {},
   "outputs": [],
   "source": [
    "def make_corpora(df, token_col='tokenized_text', id_col='year'):\n",
    "    corpora = []\n",
    "    corpora_yrs = []\n",
    "    for index, row in df.iterrows():\n",
    "        if len(corpora) > 10:\n",
    "            break\n",
    "        corpora_yrs.append(row[token_col])\n",
    "\n",
    "    corpora_s = []\n",
    "    corpora_nons = []\n",
    "    for corpus in corpora_yrs:\n",
    "        s = []\n",
    "        nons = []\n",
    "        doc = nlp(' '.join(corpus), disable = ['ner', 'parser'])\n",
    "        for word in doc:\n",
    "            if word.is_stop:\n",
    "                s.append(word.text)\n",
    "            else:\n",
    "                nons.append(word.text)\n",
    "        corpora_s.append(s)\n",
    "        corpora_nons.append(nons)\n",
    "    fileids = list(df[id_col])\n",
    "    return fileids, corpora_s, corpora_nons"
   ]
  },
  {
   "cell_type": "code",
   "execution_count": 127,
   "metadata": {},
   "outputs": [],
   "source": [
    "def make_div_heatmap(corpora, fileids):\n",
    "    measure_lst = ['KS', \"Wasserstein\", \"KL\", \"Chi2\"]\n",
    "    f, axes = plt.subplots(2, 2, figsize=(25, 18))\n",
    "    for measure, ax in zip(measure_lst, axes.flatten()[:4]):\n",
    "        ax.set_title(f'Heatmap of Nonstop Words with {measure} Measure')\n",
    "        L = []\n",
    "        for p in corpora:\n",
    "            l = []\n",
    "            for q in corpora:\n",
    "                l.append(Divergence(p, q, difference=measure))\n",
    "            L.append(l)\n",
    "        M = np.array(L)\n",
    "        fig = plt.figure()\n",
    "        div = pd.DataFrame(M, columns=fileids, index=fileids)\n",
    "        g = sns.heatmap(div, ax=ax)\n",
    "        plt.setp(g.get_xticklabels(), rotation=90)\n",
    "    plt.show()"
   ]
  },
  {
   "cell_type": "code",
   "execution_count": 142,
   "metadata": {},
   "outputs": [],
   "source": [
    "def make_one_heatmap(fileids, corpora, measure):\n",
    "    L = []\n",
    "    for p in corpora:\n",
    "        l = []\n",
    "        for q in corpora:\n",
    "            l.append(Divergence(p,q, difference=measure))\n",
    "        L.append(l)\n",
    "    M = np.array(L)\n",
    "    fig = plt.figure()\n",
    "    div = pd.DataFrame(M, columns=fileids, index=fileids)\n",
    "    ax = sns.heatmap(div)\n",
    "    plt.show()"
   ]
  },
  {
   "cell_type": "code",
   "execution_count": null,
   "metadata": {},
   "outputs": [],
   "source": []
  }
 ],
 "metadata": {
  "kernelspec": {
   "display_name": "Python 3",
   "language": "python",
   "name": "python3"
  },
  "language_info": {
   "codemirror_mode": {
    "name": "ipython",
    "version": 3
   },
   "file_extension": ".py",
   "mimetype": "text/x-python",
   "name": "python",
   "nbconvert_exporter": "python",
   "pygments_lexer": "ipython3",
   "version": "3.7.1"
  }
 },
 "nbformat": 4,
 "nbformat_minor": 2
}
